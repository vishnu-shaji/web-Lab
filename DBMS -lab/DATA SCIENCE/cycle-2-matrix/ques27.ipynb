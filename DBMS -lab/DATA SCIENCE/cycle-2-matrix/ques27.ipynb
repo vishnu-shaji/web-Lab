{
 "cells": [
  {
   "cell_type": "code",
   "execution_count": 1,
   "id": "73f1c013",
   "metadata": {},
   "outputs": [
    {
     "name": "stdout",
     "output_type": "stream",
     "text": [
      "\n",
      "ARRAY 1 Elements : \n",
      "1 2 3 4\n",
      "\n",
      "ARRAY 1 ,  ROW COLUMN : \n",
      "2 2\n",
      "\n",
      "ARRAY 1\n",
      "[[1 2]\n",
      " [3 4]]\n",
      "\n",
      "E-value : \n",
      "[-0.37228132  5.37228132]\n",
      "\n",
      "E-vector : \n",
      "[[-0.82456484 -0.41597356]\n",
      " [ 0.56576746 -0.90937671]]\n"
     ]
    }
   ],
   "source": [
    "import numpy as np \n",
    "\n",
    "def create_matrix(mc):\n",
    "    print(\"\\nARRAY \"+str(mc)+\" Elements : \")\n",
    "    array_1 = map(int, input().split())\n",
    "    array_1 = np.array(list(array_1))\n",
    "    #print(arr)\n",
    "    print(\"\\nARRAY \"+str(mc)+\" ,  ROW COLUMN : \")\n",
    "    row,column = map(int, input().split())\n",
    "    if(len(array_1)!= (row*column)):\n",
    "        print(\"\\nRow and Column size not match with total elements !! retry\")\n",
    "        return create_matrix(mc)\n",
    "    array_1 = array_1.reshape(row,column)\n",
    "    print(\"\\nARRAY \"+str(mc))\n",
    "    print(array_1)\n",
    "    return array_1\n",
    "\n",
    "\n",
    "\n",
    "x,y = np.linalg.eig(create_matrix(1))\n",
    "\n",
    "print(\"\\nE-value : \")\n",
    "print(x)\n",
    "print(\"\\nE-vector : \")\n",
    "print(y)\n"
   ]
  },
  {
   "cell_type": "code",
   "execution_count": null,
   "id": "5f694553",
   "metadata": {},
   "outputs": [],
   "source": []
  }
 ],
 "metadata": {
  "kernelspec": {
   "display_name": "Python 3",
   "language": "python",
   "name": "python3"
  },
  "language_info": {
   "codemirror_mode": {
    "name": "ipython",
    "version": 3
   },
   "file_extension": ".py",
   "mimetype": "text/x-python",
   "name": "python",
   "nbconvert_exporter": "python",
   "pygments_lexer": "ipython3",
   "version": "3.8.8"
  }
 },
 "nbformat": 4,
 "nbformat_minor": 5
}

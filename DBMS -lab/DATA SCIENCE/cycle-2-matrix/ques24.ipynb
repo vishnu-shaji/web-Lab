{
 "cells": [
  {
   "cell_type": "code",
   "execution_count": 1,
   "id": "252459f8",
   "metadata": {},
   "outputs": [
    {
     "name": "stdout",
     "output_type": "stream",
     "text": [
      "\n",
      "ARRAY 1 Elements : \n",
      "1 2 3 4\n",
      "\n",
      "ARRAY 1 ,  ROW COLUMN : \n",
      "2 2\n",
      "\n",
      "ARRAY 1\n",
      "[[1 2]\n",
      " [3 4]]\n",
      "\n",
      "Rank : \n",
      "2\n"
     ]
    }
   ],
   "source": [
    "import numpy as np \n",
    "\n",
    "def create_matrix(mc):\n",
    "    print(\"\\nARRAY \"+str(mc)+\" Elements : \")\n",
    "    array_1 = map(int, input().split())\n",
    "    array_1 = np.array(list(array_1))\n",
    "    #print(arr)\n",
    "    print(\"\\nARRAY \"+str(mc)+\" ,  ROW COLUMN : \")\n",
    "    row,column = map(int, input().split())\n",
    "    if(len(array_1)!= (row*column)):\n",
    "        print(\"\\nRow and Column size not match with total elements !! retry\")\n",
    "        return create_matrix(mc)\n",
    "    array_1 = array_1.reshape(row,column)\n",
    "    print(\"\\nARRAY \"+str(mc))\n",
    "    print(array_1)\n",
    "    print(\"\\nRank : \")\n",
    "    return array_1\n",
    "\n",
    "\n",
    "\n",
    "print(np.linalg.matrix_rank(create_matrix(1)))\n"
   ]
  },
  {
   "cell_type": "code",
   "execution_count": null,
   "id": "a8d154a2",
   "metadata": {},
   "outputs": [],
   "source": []
  }
 ],
 "metadata": {
  "kernelspec": {
   "display_name": "Python 3",
   "language": "python",
   "name": "python3"
  },
  "language_info": {
   "codemirror_mode": {
    "name": "ipython",
    "version": 3
   },
   "file_extension": ".py",
   "mimetype": "text/x-python",
   "name": "python",
   "nbconvert_exporter": "python",
   "pygments_lexer": "ipython3",
   "version": "3.8.8"
  }
 },
 "nbformat": 4,
 "nbformat_minor": 5
}

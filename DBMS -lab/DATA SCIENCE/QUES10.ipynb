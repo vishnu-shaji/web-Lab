{
 "cells": [
  {
   "cell_type": "code",
   "execution_count": 1,
   "id": "a5ae4af8",
   "metadata": {},
   "outputs": [],
   "source": [
    "import numpy as np"
   ]
  },
  {
   "cell_type": "code",
   "execution_count": 2,
   "id": "80bb57de",
   "metadata": {},
   "outputs": [],
   "source": [
    "num = np.array([[3, 4, 7],[6,7,1]])"
   ]
  },
  {
   "cell_type": "code",
   "execution_count": 3,
   "id": "e6ee64be",
   "metadata": {},
   "outputs": [],
   "source": [
    "num1 = np.array([[5, 9, 4],[6, 9, 3]])"
   ]
  },
  {
   "cell_type": "code",
   "execution_count": null,
   "id": "c2087c59",
   "metadata": {},
   "outputs": [],
   "source": []
  }
 ],
 "metadata": {
  "kernelspec": {
   "display_name": "Python 3 (ipykernel)",
   "language": "python",
   "name": "python3"
  },
  "language_info": {
   "codemirror_mode": {
    "name": "ipython",
    "version": 3
   },
   "file_extension": ".py",
   "mimetype": "text/x-python",
   "name": "python",
   "nbconvert_exporter": "python",
   "pygments_lexer": "ipython3",
   "version": "3.9.12"
  }
 },
 "nbformat": 4,
 "nbformat_minor": 5
}

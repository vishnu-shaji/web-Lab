{
 "cells": [
  {
   "cell_type": "code",
   "execution_count": 1,
   "id": "c4b1f11e",
   "metadata": {},
   "outputs": [],
   "source": [
    "import numpy as np"
   ]
  },
  {
   "cell_type": "code",
   "execution_count": 2,
   "id": "b18c997d",
   "metadata": {},
   "outputs": [],
   "source": [
    "import os"
   ]
  },
  {
   "cell_type": "code",
   "execution_count": 3,
   "id": "7f94712c",
   "metadata": {},
   "outputs": [],
   "source": [
    "x = np.arange(12).reshape(4, 3)"
   ]
  },
  {
   "cell_type": "code",
   "execution_count": 4,
   "id": "bfab4f70",
   "metadata": {},
   "outputs": [
    {
     "name": "stdout",
     "output_type": "stream",
     "text": [
      "[[ 0  1  2]\n",
      " [ 3  4  5]\n",
      " [ 6  7  8]\n",
      " [ 9 10 11]]\n"
     ]
    }
   ],
   "source": [
    "print(x)"
   ]
  },
  {
   "cell_type": "code",
   "execution_count": 5,
   "id": "d2138839",
   "metadata": {},
   "outputs": [],
   "source": [
    "header= 'col1 col2 col3'"
   ]
  },
  {
   "cell_type": "code",
   "execution_count": 7,
   "id": "f2cfbc2c",
   "metadata": {},
   "outputs": [],
   "source": [
    "np.savetxt('temp.txt', x, fmt=\"%d\", header=header)"
   ]
  },
  {
   "cell_type": "code",
   "execution_count": 8,
   "id": "adb83ade",
   "metadata": {},
   "outputs": [
    {
     "name": "stdout",
     "output_type": "stream",
     "text": [
      "after load\n"
     ]
    }
   ],
   "source": [
    "print(\"after load\")"
   ]
  },
  {
   "cell_type": "code",
   "execution_count": 9,
   "id": "dcf087d1",
   "metadata": {},
   "outputs": [],
   "source": [
    "res=np.loadtxt('temp.txt')"
   ]
  },
  {
   "cell_type": "code",
   "execution_count": 10,
   "id": "cbe883b9",
   "metadata": {},
   "outputs": [
    {
     "name": "stdout",
     "output_type": "stream",
     "text": [
      "[[ 0.  1.  2.]\n",
      " [ 3.  4.  5.]\n",
      " [ 6.  7.  8.]\n",
      " [ 9. 10. 11.]]\n"
     ]
    }
   ],
   "source": [
    "print(res)"
   ]
  },
  {
   "cell_type": "code",
   "execution_count": null,
   "id": "30845503",
   "metadata": {},
   "outputs": [],
   "source": []
  }
 ],
 "metadata": {
  "kernelspec": {
   "display_name": "Python 3 (ipykernel)",
   "language": "python",
   "name": "python3"
  },
  "language_info": {
   "codemirror_mode": {
    "name": "ipython",
    "version": 3
   },
   "file_extension": ".py",
   "mimetype": "text/x-python",
   "name": "python",
   "nbconvert_exporter": "python",
   "pygments_lexer": "ipython3",
   "version": "3.9.12"
  }
 },
 "nbformat": 4,
 "nbformat_minor": 5
}

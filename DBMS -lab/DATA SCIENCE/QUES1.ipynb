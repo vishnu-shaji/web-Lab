{
 "cells": [
  {
   "cell_type": "code",
   "execution_count": 1,
   "id": "841fb7b4",
   "metadata": {},
   "outputs": [],
   "source": [
    "import numpy as np"
   ]
  },
  {
   "cell_type": "code",
   "execution_count": 2,
   "id": "688f0efb",
   "metadata": {},
   "outputs": [],
   "source": [
    "x=np.array([3,5])"
   ]
  },
  {
   "cell_type": "code",
   "execution_count": 4,
   "id": "98ccec53",
   "metadata": {},
   "outputs": [],
   "source": [
    "y=np.array([2,5])"
   ]
  },
  {
   "cell_type": "code",
   "execution_count": 5,
   "id": "ed8f5789",
   "metadata": {},
   "outputs": [
    {
     "name": "stdout",
     "output_type": "stream",
     "text": [
      "Arrays is: \n"
     ]
    }
   ],
   "source": [
    "print(\"Arrays is: \")"
   ]
  },
  {
   "cell_type": "code",
   "execution_count": 6,
   "id": "ef84fc8b",
   "metadata": {},
   "outputs": [
    {
     "name": "stdout",
     "output_type": "stream",
     "text": [
      "[2 5]\n"
     ]
    }
   ],
   "source": [
    "print(x)"
   ]
  },
  {
   "cell_type": "code",
   "execution_count": 7,
   "id": "a92e1ad2",
   "metadata": {},
   "outputs": [
    {
     "name": "stdout",
     "output_type": "stream",
     "text": [
      "[2 5]\n"
     ]
    }
   ],
   "source": [
    "print(y)"
   ]
  },
  {
   "cell_type": "code",
   "execution_count": 8,
   "id": "45aa362c",
   "metadata": {},
   "outputs": [
    {
     "name": "stdout",
     "output_type": "stream",
     "text": [
      "Greater\n"
     ]
    }
   ],
   "source": [
    "print(\"Greater\")"
   ]
  },
  {
   "cell_type": "code",
   "execution_count": 9,
   "id": "c5f7f87f",
   "metadata": {},
   "outputs": [
    {
     "name": "stdout",
     "output_type": "stream",
     "text": [
      "[False False]\n"
     ]
    }
   ],
   "source": [
    "print(np.greater(x,y))"
   ]
  },
  {
   "cell_type": "code",
   "execution_count": 11,
   "id": "a2b79623",
   "metadata": {},
   "outputs": [
    {
     "name": "stdout",
     "output_type": "stream",
     "text": [
      "Greater or equal\n"
     ]
    }
   ],
   "source": [
    "print(\"Greater or equal\")"
   ]
  },
  {
   "cell_type": "code",
   "execution_count": 12,
   "id": "f602b486",
   "metadata": {},
   "outputs": [
    {
     "name": "stdout",
     "output_type": "stream",
     "text": [
      "[ True  True]\n"
     ]
    }
   ],
   "source": [
    "print(np.greater_equal(x,y))"
   ]
  },
  {
   "cell_type": "code",
   "execution_count": null,
   "id": "0f3b278d",
   "metadata": {},
   "outputs": [],
   "source": [
    "print("
   ]
  }
 ],
 "metadata": {
  "kernelspec": {
   "display_name": "Python 3 (ipykernel)",
   "language": "python",
   "name": "python3"
  },
  "language_info": {
   "codemirror_mode": {
    "name": "ipython",
    "version": 3
   },
   "file_extension": ".py",
   "mimetype": "text/x-python",
   "name": "python",
   "nbconvert_exporter": "python",
   "pygments_lexer": "ipython3",
   "version": "3.9.12"
  }
 },
 "nbformat": 4,
 "nbformat_minor": 5
}

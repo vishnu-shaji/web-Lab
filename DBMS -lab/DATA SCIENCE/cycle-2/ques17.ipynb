{
 "cells": [
  {
   "cell_type": "code",
   "execution_count": 2,
   "id": "96f7f55b",
   "metadata": {},
   "outputs": [],
   "source": [
    "import matplotlib.pyplot as plt"
   ]
  },
  {
   "cell_type": "code",
   "execution_count": 5,
   "id": "f44562bf",
   "metadata": {},
   "outputs": [],
   "source": [
    "import numpy as np"
   ]
  },
  {
   "cell_type": "markdown",
   "id": "a78a5d2d",
   "metadata": {},
   "source": [
    "x = ['G1','G2','G3','G4','G5']"
   ]
  },
  {
   "cell_type": "code",
   "execution_count": 9,
   "id": "eab74678",
   "metadata": {},
   "outputs": [
    {
     "data": {
      "image/png": "[encoded data removed]",
      "text/plain": [
       "<Figure size 432x288 with 1 Axes>"
      ]
     },
     "metadata": {
      "needs_background": "light"
     },
     "output_type": "display_data"
    }
   ],
   "source": [
    "men = [22,30,35,35,26]\n",
    "women = [25,32,30,35,29]\n",
    "X_axis = np.arange(len(x))\n",
    "plt.bar(X_axis - 0.2, men, 0.4, label = 'Person')\n",
    "plt.bar(X_axis + 0.2, women, 0.4, label = 'Scores')\n",
    "  \n",
    "plt.xticks(X_axis, x)\n",
    "plt.xlabel(\"Person\")\n",
    "plt.ylabel(\"Scores\")\n",
    "plt.title(\"Scores by person\")\n",
    "plt.legend()\n",
    "plt.show()"
   ]
  }
 ],
 "metadata": {
  "kernelspec": {
   "display_name": "Python 3 (ipykernel)",
   "language": "python",
   "name": "python3"
  },
  "language_info": {
   "codemirror_mode": {
    "name": "ipython",
    "version": 3
   },
   "file_extension": ".py",
   "mimetype": "text/x-python",
   "name": "python",
   "nbconvert_exporter": "python",
   "pygments_lexer": "ipython3",
   "version": "3.9.12"
  }
 },
 "nbformat": 4,
 "nbformat_minor": 5
}
